{
 "metadata": {
  "language_info": {
   "codemirror_mode": {
    "name": "ipython",
    "version": 3
   },
   "file_extension": ".py",
   "mimetype": "text/x-python",
   "name": "python",
   "nbconvert_exporter": "python",
   "pygments_lexer": "ipython3",
   "version": "3.9.4"
  },
  "orig_nbformat": 2,
  "kernelspec": {
   "name": "python394jvsc74a57bd01440a9cca3dcddca67ad8c4bb85b19f4a37616bdfcb3445bb6395f90b40da284",
   "display_name": "Python 3.9.4 64-bit"
  },
  "metadata": {
   "interpreter": {
    "hash": "1440a9cca3dcddca67ad8c4bb85b19f4a37616bdfcb3445bb6395f90b40da284"
   }
  }
 },
 "nbformat": 4,
 "nbformat_minor": 2,
 "cells": [
  {
   "cell_type": "code",
   "execution_count": 46,
   "metadata": {},
   "outputs": [],
   "source": [
    "import os\n",
    "import shutil\n",
    "import random"
   ]
  },
  {
   "cell_type": "code",
   "execution_count": 70,
   "metadata": {},
   "outputs": [],
   "source": [
    "input_dir=\"C:\\\\Users\\\\layds\\\\OneDrive\\\\Imagens\\\\Imagens\\\\Input\"\n",
    "output_dir=\"C:\\\\Users\\\\layds\\\\OneDrive\\\\Imagens\\\\Imagens\\\\Output\"\n",
    "qtda= 2"
   ]
  },
  {
   "cell_type": "code",
   "execution_count": 71,
   "metadata": {},
   "outputs": [
    {
     "output_type": "execute_result",
     "data": {
      "text/plain": [
       "['C:\\\\Users\\\\layds\\\\OneDrive\\\\Imagens\\\\Imagens\\\\Input\\\\2020-04-27 (2).png',\n",
       " 'C:\\\\Users\\\\layds\\\\OneDrive\\\\Imagens\\\\Imagens\\\\Input\\\\Capturas de tela\\\\2020-04-27 (2).png',\n",
       " 'C:\\\\Users\\\\layds\\\\OneDrive\\\\Imagens\\\\Imagens\\\\Input\\\\Capturas de tela\\\\desktop.ini',\n",
       " 'C:\\\\Users\\\\layds\\\\OneDrive\\\\Imagens\\\\Imagens\\\\Input\\\\Capturas de tela\\\\Pasta1\\\\2020-04-25.png',\n",
       " 'C:\\\\Users\\\\layds\\\\OneDrive\\\\Imagens\\\\Imagens\\\\Input\\\\Capturas de tela\\\\Pasta1\\\\2020-04-27 (1).png',\n",
       " 'C:\\\\Users\\\\layds\\\\OneDrive\\\\Imagens\\\\Imagens\\\\Input\\\\Capturas de tela\\\\Pasta2\\\\2020-04-29 (1).png',\n",
       " 'C:\\\\Users\\\\layds\\\\OneDrive\\\\Imagens\\\\Imagens\\\\Input\\\\Capturas de tela\\\\Pasta2\\\\2020-04-29 (2).png',\n",
       " 'C:\\\\Users\\\\layds\\\\OneDrive\\\\Imagens\\\\Imagens\\\\Input\\\\Pasta2\\\\2020-04-27.png',\n",
       " 'C:\\\\Users\\\\layds\\\\OneDrive\\\\Imagens\\\\Imagens\\\\Input\\\\Pasta2\\\\2020-04-29.png',\n",
       " 'C:\\\\Users\\\\layds\\\\OneDrive\\\\Imagens\\\\Imagens\\\\Input\\\\Pasta3\\\\2020-04-30.png']"
      ]
     },
     "metadata": {},
     "execution_count": 71
    }
   ],
   "source": [
    "file_list = [os.path.join(path, name) for path, subdirs, files in os.walk(input_dir) for name in files]\n",
    "#file_list"
   ]
  },
  {
   "cell_type": "code",
   "execution_count": 74,
   "metadata": {},
   "outputs": [
    {
     "output_type": "execute_result",
     "data": {
      "text/plain": [
       "['C:\\\\Users\\\\layds\\\\OneDrive\\\\Imagens\\\\Imagens\\\\Input\\\\Capturas de tela\\\\Pasta1\\\\2020-04-25.png',\n",
       " 'C:\\\\Users\\\\layds\\\\OneDrive\\\\Imagens\\\\Imagens\\\\Input\\\\Capturas de tela\\\\Pasta1\\\\2020-04-27 (1).png']"
      ]
     },
     "metadata": {},
     "execution_count": 74
    }
   ],
   "source": [
    "select_files = random.sample(file_list, qtda)# randomly select 2 pictures from each category folder\n",
    "select_files"
   ]
  },
  {
   "cell_type": "code",
   "execution_count": 77,
   "metadata": {},
   "outputs": [
    {
     "output_type": "stream",
     "name": "stdout",
     "text": [
      "fotos aleatorias copiadas\n"
     ]
    }
   ],
   "source": [
    "for foto_n in range(len(select_files)):\n",
    "    shutil.copy2(select_files[foto_n], output_dir)\n",
    "print(\"fotos aleatorias copiadas\")"
   ]
  },
  {
   "cell_type": "code",
   "execution_count": null,
   "metadata": {},
   "outputs": [],
   "source": []
  }
 ]
}